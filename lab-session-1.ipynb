{
 "cells": [
  {
   "cell_type": "markdown",
   "metadata": {
    "colab_type": "text",
    "id": "view-in-github"
   },
   "source": [
    "<a href=\"https://colab.research.google.com/github/lohith-kandibanda/Machine_learning_subj/blob/main/lab-session-1.ipynb\" target=\"_parent\"><img src=\"https://colab.research.google.com/assets/colab-badge.svg\" alt=\"Open In Colab\"/></a>"
   ]
  },
  {
   "cell_type": "code",
   "execution_count": 1,
   "metadata": {
    "colab": {
     "base_uri": "https://localhost:8080/"
    },
    "id": "Hsbuafl7qcYF",
    "outputId": "3526e6b0-ef82-4dd8-ce6f-f6fe6c68a43d"
   },
   "outputs": [
    {
     "name": "stdin",
     "output_type": "stream",
     "text": [
      "Enter a string:  abcdefGHIJKLMNO\n"
     ]
    },
    {
     "name": "stdout",
     "output_type": "stream",
     "text": [
      "4 11\n"
     ]
    }
   ],
   "source": [
    "# Function to count vowels and consonants in a string\n",
    "def count_vowels_consonants(Inp_Str):\n",
    "    vowel_count = 0  # Initialize vowel count\n",
    "    consonant_count = 0  # Initialize consonant count\n",
    "    str = Inp_Str.lower()  # Convert input to lowercase for easy comparison\n",
    "    \n",
    "    for char in str:  # Iterate through each character in the string\n",
    "        if char in {'a', 'e', 'i', 'o', 'u'}:  # Check if it's a vowel\n",
    "            vowel_count += 1\n",
    "        elif char in {'b', 'c', 'd', 'f', 'g', 'h' , 'j' , 'k' , 'l', 'm', 'n', 'p', 'q', 'r', 's', 't' , 'v', 'w' , 'x' , 'y' , 'z'}:  # Check if it's a consonant\n",
    "            consonant_count += 1\n",
    "    \n",
    "    return (vowel_count, consonant_count)  # Return the counts\n",
    "\n",
    "# Get input and call the function\n",
    "str = input(\"Enter a string: \")\n",
    "v, c = count_vowels_consonants(str)  # Store the results\n",
    "print(v, c)  # Print vowel and consonant counts\n"
   ]
  },
  {
   "cell_type": "code",
   "execution_count": null,
   "metadata": {
    "colab": {
     "base_uri": "https://localhost:8080/"
    },
    "id": "I0PxWD1hR0t5",
    "outputId": "a3420829-e3d0-4801-af79-02bbc393f27f"
   },
   "outputs": [
    {
     "name": "stdout",
     "output_type": "stream",
     "text": [
      "enter the size of row of matrice 1\n",
      "3\n",
      "enter the size of column of matrice 1\n",
      "3\n",
      "enter the size of row of matrice 2\n",
      "3\n",
      "enter the size of column of matrice 2\n",
      "3\n",
      "enter\n",
      "1\n",
      "2\n",
      "3\n",
      "1\n",
      "2\n",
      "3\n",
      "1\n",
      "2\n",
      "3\n",
      "enter\n",
      "1\n",
      "2\n",
      "3\n",
      "1\n",
      "2\n",
      "3\n",
      "1\n",
      "2\n",
      "3\n",
      "[[ 6 12 18]\n",
      " [ 6 12 18]\n",
      " [ 6 12 18]]\n"
     ]
    }
   ],
   "source": [
    "import numpy as np\n",
    "\n",
    "# Function to compute the product of two matrices using numpy\n",
    "def Product_AB(A, B):\n",
    "   return np.dot(A, B)  # Perform matrix multiplication\n",
    "\n",
    "# Input for matrix dimensions\n",
    "print(\"Enter the size of row of matrix 1\")\n",
    "r1 = int(input())\n",
    "print(\"Enter the size of column of matrix 1\")\n",
    "c1 = int(input())\n",
    "print(\"Enter the size of row of matrix 2\")\n",
    "r2 = int(input())\n",
    "print(\"Enter the size of column of matrix 2\")\n",
    "c2 = int(input())\n",
    "\n",
    "matrice1 = []\n",
    "matrice2 = []\n",
    "\n",
    "# Loop to take input for the first matrix\n",
    "print('Enter elements for matrix 1:')\n",
    "for j in range(r1):  # Iterate over rows\n",
    "  a = []\n",
    "  for i in range(c1):  # Iterate over columns\n",
    "    a.append(int(input()))\n",
    "  matrice1.append(a)\n",
    "\n",
    "# Loop to take input for the second matrix\n",
    "print('Enter elements for matrix 2:')\n",
    "for j in range(r2):  # Iterate over rows\n",
    "  a = []\n",
    "  for i in range(c2):  # Iterate over columns\n",
    "    a.append(int(input()))\n",
    "  matrice2.append(a)\n",
    "\n",
    "# Check if matrix multiplication is possible (columns of A == rows of B)\n",
    "if c1 == r2:\n",
    "  print(Product_AB(matrice1, matrice2))  # Call the function to multiply the matrices\n",
    "else:\n",
    "  print(\"Error: Matrix dimensions are incompatible for multiplication\")\n"
   ]
  },
  {
   "cell_type": "code",
   "execution_count": null,
   "metadata": {
    "colab": {
     "base_uri": "https://localhost:8080/"
    },
    "id": "tgs-EHktafQU",
    "outputId": "f4167c44-a1d9-421e-9bba-230eed76cea2"
   },
   "outputs": [
    {
     "name": "stdout",
     "output_type": "stream",
     "text": [
      "enter the len of lsts\n",
      "4\n",
      "enter the elements of list1\n",
      "enter1\n",
      "enter2\n",
      "enter3\n",
      "enter4\n",
      "enter the elements of list2\n",
      "enter1\n",
      "enter2\n",
      "enter3\n",
      "enter4\n",
      "common elements in lists are  4\n"
     ]
    }
   ],
   "source": [
    "# Function to find common elements between two lists\n",
    "def common_elements(lst1, lst2):\n",
    "  count = 0  # Initialize counter for common elements\n",
    "  # Loop through the first list\n",
    "  for i in lst1:\n",
    "    if i in lst2:  # Check if element exists in the second list\n",
    "      count += 1  # Increment counter if common element is found\n",
    "  return count  # Return the count of common elements\n",
    "\n",
    "# Input for the length of the lists\n",
    "print(\"Enter the length of the lists:\")\n",
    "n = int(input())\n",
    "\n",
    "lst1 = []\n",
    "lst2 = []\n",
    "\n",
    "# Loop to take input for the first list\n",
    "print(\"Enter the elements of list 1:\")\n",
    "for i in range(n):\n",
    "  a = int(input(\"Enter: \"))  # Input for list 1 elements\n",
    "  lst1.append(a)\n",
    "\n",
    "# Loop to take input for the second list\n",
    "print(\"Enter the elements of list 2:\")\n",
    "for i in range(n):\n",
    "  b = int(input(\"Enter: \"))  # Input for list 2 elements\n",
    "  lst2.append(b)\n",
    "\n",
    "# Call the function to find common elements and display the result\n",
    "c = common_elements(lst1, lst2)\n",
    "print(\"Common elements in the lists are:\", c)\n"
   ]
  },
  {
   "cell_type": "code",
   "execution_count": null,
   "metadata": {
    "colab": {
     "base_uri": "https://localhost:8080/"
    },
    "id": "IEaVs2RchzN3",
    "outputId": "4cd33dab-4f86-4c7d-fc97-e9085b9835d9"
   },
   "outputs": [
    {
     "name": "stdout",
     "output_type": "stream",
     "text": [
      "enter the size of row of matrice 1\n",
      "3\n",
      "enter the size of column of matrice 1\n",
      "3\n",
      "enter\n",
      "1\n",
      "2\n",
      "3\n",
      "2\n",
      "4\n",
      "5\n",
      "7\n",
      "5\n",
      "2\n",
      "[[1 2 7]\n",
      " [2 4 5]\n",
      " [3 5 2]]\n"
     ]
    }
   ],
   "source": [
    "import numpy as np\n",
    "\n",
    "# Function to transpose a matrix\n",
    "def transpose(A):\n",
    "  np_matrix = np.array(A)  # Convert the input list to a numpy array\n",
    "  transposed = np_matrix.T  # Transpose the matrix\n",
    "  return transposed  # Return the transposed matrix\n",
    "\n",
    "# Input for matrix dimensions\n",
    "print(\"Enter the size of row of matrix 1:\")\n",
    "r1 = int(input())\n",
    "print(\"Enter the size of column of matrix 1:\")\n",
    "c1 = int(input())\n",
    "\n",
    "matrice1 = []\n",
    "\n",
    "# Loop to take input for the matrix\n",
    "print('Enter the elements of the matrix:')\n",
    "for j in range(r1):  # Iterate over rows\n",
    "  a = []\n",
    "  for i in range(c1):  # Iterate over columns\n",
    "    a.append(int(input()))  # Input for each element of the matrix\n",
    "  matrice1.append(a)\n",
    "\n",
    "# Call the transpose function and display the result\n",
    "B = transpose(matrice1)\n",
    "print(B)  # Print the transposed matrix\n"
   ]
  }
 ],
 "metadata": {
  "colab": {
   "authorship_tag": "ABX9TyOInu7NCwJM2zoEHanX3Hal",
   "include_colab_link": true,
   "provenance": []
  },
  "kernelspec": {
   "display_name": "Python 3 (ipykernel)",
   "language": "python",
   "name": "python3"
  },
  "language_info": {
   "codemirror_mode": {
    "name": "ipython",
    "version": 3
   },
   "file_extension": ".py",
   "mimetype": "text/x-python",
   "name": "python",
   "nbconvert_exporter": "python",
   "pygments_lexer": "ipython3",
   "version": "3.11.4"
  }
 },
 "nbformat": 4,
 "nbformat_minor": 4
}
